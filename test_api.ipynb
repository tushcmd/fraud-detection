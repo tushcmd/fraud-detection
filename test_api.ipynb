{
 "cells": [
  {
   "cell_type": "code",
   "execution_count": 20,
   "metadata": {},
   "outputs": [
    {
     "name": "stdout",
     "output_type": "stream",
     "text": [
      "{'prediction': [0], 'probabilities': [0.9995861649513245, 0.00041384974610991776]}\n"
     ]
    }
   ],
   "source": [
    "import requests\n",
    "import json\n",
    "\n",
    "# model url\n",
    "url = 'http://127.0.0.1:8000/predict'\n",
    "\n",
    "# Sample transaction data\n",
    "transaction_data = {\n",
    "    \"merchant\": 8,\n",
    "    \"category\": 1,\n",
    "    \"amt\": 564.0,\n",
    "    \"gender\": 1,\n",
    "    \"city\": 510,\n",
    "    \"state\": 27,\n",
    "    \"city_pop\": 3495.0,\n",
    "    \"job\": 419,\n",
    "    \"unix_time\": 1.325376e+09,\n",
    "    \"age\": 27\n",
    "}\n",
    "\n",
    "# Send POST request\n",
    "response = requests.post(url, json=transaction_data)\n",
    "\n",
    "# Check if the request was successful\n",
    "if response.status_code == 200:\n",
    "    # Parse the JSON response\n",
    "    result = response.json()\n",
    "    print(result)\n",
    "else:\n",
    "    print(\"Error:\", response.status_code, response.text)"
   ]
  },
  {
   "cell_type": "code",
   "execution_count": null,
   "metadata": {},
   "outputs": [],
   "source": []
  }
 ],
 "metadata": {
  "kernelspec": {
   "display_name": "venv",
   "language": "python",
   "name": "python3"
  },
  "language_info": {
   "codemirror_mode": {
    "name": "ipython",
    "version": 3
   },
   "file_extension": ".py",
   "mimetype": "text/x-python",
   "name": "python",
   "nbconvert_exporter": "python",
   "pygments_lexer": "ipython3",
   "version": "3.12.3"
  }
 },
 "nbformat": 4,
 "nbformat_minor": 2
}
